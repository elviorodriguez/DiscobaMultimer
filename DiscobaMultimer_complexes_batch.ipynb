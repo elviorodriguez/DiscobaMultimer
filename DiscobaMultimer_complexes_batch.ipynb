{
  "nbformat": 4,
  "nbformat_minor": 0,
  "metadata": {
    "colab": {
      "provenance": [],
      "gpuType": "T4"
    },
    "kernelspec": {
      "name": "python3",
      "display_name": "Python 3"
    },
    "language_info": {
      "name": "python"
    },
    "accelerator": "GPU"
  },
  "cells": [
    {
      "cell_type": "markdown",
      "source": [
        "# DiscobaMultimer for batches of complex structure predictions\n",
        "This notebook is used to predict batches of protein complex structures on Discoba species. It creates paired+unpaired Discoba MSAs and combines them with the MSAs comming from ColabFold MSA server. The resulting MSA is used to predict the structure of the complexes using LocalColabFold's implementation of AF2.\n",
        "\n",
        "It works by uploading a `database.fasta` and an `IDs_table.txt` file. See https://github.com/elviorodriguez/DiscobaMultimer to know how to format them."
      ],
      "metadata": {
        "id": "P7QO64SydMB8"
      }
    },
    {
      "cell_type": "code",
      "source": [
        "#@title Input `database.fasta` and `IDs_table.txt` files\n",
        "from google.colab import files\n",
        "import os\n",
        "import re\n",
        "#@markdown Set your `jobname` and options, and then click on `Runtime` -> `Run all`. You will be asked to upload your <database.fasta> and <IDs_table.txt> files.\n",
        "\n",
        "# jobname to create a filesystem\n",
        "#@markdown Name of the folder that will be crated for the project:\n",
        "jobname = 'my_job' #@param {type:\"string\"}\n",
        "#@markdown Set it to `custom` if you want to upload you own AF2.config file.\n",
        "AF2_config = \"default\" #@param [\"default\", \"custom\"]\n",
        "#@markdown - `default`: default discoba_multimer_batch AF2 options (--num-models 5 --num-recycle 6 --rank iptm --stop-at-score 80 --recycle-early-stop-tolerance 1.5 --num-relax 1 --use-gpu-relax)\n",
        "#@markdown - `custom`: will ask you to upload your own AF2.config file. See https://github.com/elviorodriguez/DiscobaMultimer to know how to create one.\n",
        "print(\"\")\n",
        "#@markdown Range of combined sizes (summ of protein residues) to predict for each IDs line:\n",
        "min_size = 0 #@param {type:\"integer\"}\n",
        "max_size = 1200 #@param {type:\"integer\"}\n",
        "#@markdown - All IDs combinations that are not contained in this range will be ignored and added to an `ignored.txt` file.\n",
        "\n",
        "\n",
        "\n",
        "# check if directory with jobname exists\n",
        "def check(folder):\n",
        "  if os.path.exists(folder):\n",
        "    return False\n",
        "  else:\n",
        "    return True\n",
        "if not check(jobname):\n",
        "  n = 0\n",
        "  while not check(f\"{jobname}_{n}\"): n += 1\n",
        "  jobname = f\"{jobname}_{n}\"\n",
        "\n",
        "# make directory to save results\n",
        "os.makedirs(jobname, exist_ok=True)\n",
        "print(\"Jobname:\",jobname)\n",
        "\n",
        "# Upload database and IDs files\n",
        "print(\"\")\n",
        "print(\"Upload <database.fasta> file\")\n",
        "upload_DB = files.upload()\n",
        "print(\"\")\n",
        "print(\"Upload <IDs_table.tx> file\")\n",
        "upload_IDs = files.upload()\n",
        "if AF2_config == \"custom\":\n",
        "  print(\"\")\n",
        "  print(\"Upload <AF2.config> file\")\n",
        "  upload_AF2cfg = files.upload()\n",
        "  # Move the uploaded files to the destination directory\n",
        "  for filename, content in upload_DB.items():\n",
        "      with open(jobname + \"/AF2.config\", 'wb') as f:\n",
        "          f.write(content)\n",
        "          if os.path.exists(filename): os.remove(filename)\n",
        "\n",
        "# Move the uploaded files to the destination directory\n",
        "for filename, content in upload_DB.items():\n",
        "    with open(jobname + \"/database.fasta\", 'wb') as f:\n",
        "        f.write(content)\n",
        "    if os.path.exists(filename): os.remove(filename)\n",
        "for filename, content in upload_IDs.items():\n",
        "    with open(jobname + \"/IDs_table.txt\", 'wb') as f:\n",
        "        f.write(content)\n",
        "    if os.path.exists(filename): os.remove(filename)"
      ],
      "metadata": {
        "id": "sExtgYYsJi11",
        "cellView": "form"
      },
      "execution_count": null,
      "outputs": []
    },
    {
      "cell_type": "code",
      "source": [
        "# @title Install dependencies and DiscobaMultimer (~20 min)\n",
        "%%bash\n",
        "\n",
        "# ---------------------------- Install dependencies ----------------------------\n",
        "\n",
        "# Update apt-get\n",
        "sudo apt-get -y update\n",
        "\n",
        "# Install curl, git, wget and dos2unix\n",
        "sudo apt-get -y install curl git wget dos2unix\n",
        "\n",
        "# Install LocalColabFold\n",
        "wget https://raw.githubusercontent.com/YoshitakaMo/localcolabfold/main/install_colabbatch_linux.sh\n",
        "bash install_colabbatch_linux.sh\n",
        "\n",
        "# Install biopython\n",
        "pip install biopython\n",
        "\n",
        "# Install EMBOSS and HHSUITE\n",
        "sudo apt-get -y install emboss hhsuite\n",
        "\n",
        "# --------------------------- Install DiscobaMultimer --------------------------\n",
        "\n",
        "# Clone the repo and cd to DiscobaMultimer\n",
        "git clone https://github.com/elviorodriguez/DiscobaMultimer.git\n",
        "cd DiscobaMultimer\n",
        "\n",
        "# Install DiscobaMultimer\n",
        "bash install/install_MMseqs2_and_DiscobaDB.sh install\n",
        "\n",
        "# ----------------------------- Remove temp files ------------------------------\n",
        "cd ..\n",
        "rm install_colabbatch_linux.sh"
      ],
      "metadata": {
        "id": "IlHxS9cqfri_"
      },
      "execution_count": null,
      "outputs": []
    },
    {
      "cell_type": "code",
      "source": [
        "# @title Run discoba_multimer_batch\n",
        "%%bash -s \"$jobname" "$AF2_config\"\n",
        "jobname=$1\n",
        "AF2_config=$2\n",
        "\n",
        "# Add mmseqs and colabfold to PATH\n",
        "export PATH=\"/content/localcolabfold/colabfold-conda/bin:$PATH\"\n",
        "export PATH=\"/content/DiscobaMultimer/mmseqs/bin:$PATH\"\n",
        "\n",
        "# Add env variables for DiscobaDB and DiscobaMultimerPATH\n",
        "export DiscobaDB=/content/DiscobaMultimer/discoba/discoba\n",
        "export DiscobaMultimerPath=/content/DiscobaMultimer\n",
        "\n",
        "# Add aliases for DiscobaMultimer binaries\n",
        "discoba_multimer_batch() {\n",
        "    /content/DiscobaMultimer/scripts/discoba-multimer_batch.sh \"$@\"\n",
        "}\n",
        "discoba_monomer_batch() {\n",
        "    /content/DiscobaMultimer/scripts/discoba-multimer_batch.sh \"$@\"\n",
        "}\n",
        "\n",
        "# cd to the project folder\n",
        "cd $jobname\n",
        "\n",
        "# Make sure files are unix compatible\n",
        "dos2unix database.fasta\n",
        "dos2unix IDs_table.txt\n",
        "\n",
        "# Use the corresponding call, depending if you passed a custom AF2.config file\n",
        "if [ \"$AF2_config\" == \"custom\" ]; then\n",
        "  dos2unix AF2.config\n",
        "  discoba_multimer_batch -c AF2.config -ma database.fasta IDs_table.txt 2>&1 | tee report.log\n",
        "else\n",
        "  discoba_multimer_batch -ma database.fasta IDs_table.txt 2>&1 | tee report.log\n",
        "fi\n",
        "\n"
      ],
      "metadata": {
        "id": "gFcuvEvMuSCc"
      },
      "execution_count": null,
      "outputs": []
    },
    {
      "cell_type": "code",
      "source": [
        "# @title Zip results and download\n",
        "results_zip = f\"{jobname}.result.zip\"\n",
        "os.system(f\"zip -r {results_zip} {jobname}\")\n",
        "files.download(f\"{jobname}.result.zip\")\n"
      ],
      "metadata": {
        "id": "HlBbivMOeLZP"
      },
      "execution_count": null,
      "outputs": []
    }
  ]
}
