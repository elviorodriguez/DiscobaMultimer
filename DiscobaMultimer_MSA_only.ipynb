{
  "nbformat": 4,
  "nbformat_minor": 0,
  "metadata": {
    "colab": {
      "provenance": []
    },
    "kernelspec": {
      "name": "python3",
      "display_name": "Python 3"
    },
    "language_info": {
      "name": "python"
    }
  },
  "cells": [
    {
      "cell_type": "markdown",
      "source": [
        "# DiscobaMultimer for MSA retrieval only\n",
        "\n",
        "This notebook is used to predict batches of paired+unpaired Discoba MSAs, combined or not with the MSAs comming from ColabFold MSA server. If you want to use the resulting MSA to predict the structure of the complexes using LocalColabFold's implementation of AF2, see the other notebook: https://github.com/elviorodriguez/DiscobaMultimer.\n",
        "\n",
        "Inside the downloaded ZIP file, the following folders will contain different alignments:\n",
        " - `colabfold_MSA`: MSAs retrived from ColabFold MSA server.\n",
        " - `discoba_mmseqs_alignments`: Discoba MSA for the monomeric proteins.\n",
        " - `discoba_paired_unpaired`: Paired+Unpaired Discoba MSAs for each IDs combination.\n",
        " - `merged_MSA`: Combination of Paired+Unpaired DiscobaMSA with ColabFoldMSA.\n",
        "\n",
        "It works by uploading a database.fasta and an IDs_table.txt file. See https://github.com/elviorodriguez/DiscobaMultimer to know how to format them."
      ],
      "metadata": {
        "id": "7AzflovvmBsq"
      }
    },
    {
      "cell_type": "code",
      "source": [
        "#@title Input <database.fasta> and <IDs_table.txt> files\n",
        "from google.colab import files\n",
        "import os\n",
        "import re\n",
        "\n",
        "#@markdown Set your `jobname` and options, and the click on `Runtime` -> `Run all`. You will be asked to upload your <database.fasta> and <IDs_table.txt> files.\n",
        "# jobname to create a filesystem\n",
        "#@markdown Name of the folder that will be crated for the project:\n",
        "jobname = 'my_job' #@param {type:\"string\"}\n",
        "#@markdown Set it to `yes` if you want to get a plot representation of the MSAs:\n",
        "get_MSA_plots = \"no\" #@param [\"no\", \"yes\"]\n",
        "#@markdown - MSA plots is not working right now. Leave it as `no`.",
        "print('')",
        "# (save it for later) - MSA plots will be stored in msa_plots directory of the project folder.",
        "\n",
        "# (save it for later) - MSA plot generation is not computationally efficient rigth now. If you have many MSAs to retrieve, leave it as `no`, or it will significantly impact the execution time.\n",
        "\n",
        "# check if directory with jobname exists\n",
        "def check(folder):\n",
        "  if os.path.exists(folder):\n",
        "    return False\n",
        "  else:\n",
        "    return True\n",
        "if not check(jobname):\n",
        "  n = 0\n",
        "  while not check(f\"{jobname}_{n}\"): n += 1\n",
        "  jobname = f\"{jobname}_{n}\"\n",
        "\n",
        "# make directory to save results\n",
        "os.makedirs(jobname, exist_ok=True)\n",
        "print(\"Jobname:\",jobname)\n",
        "\n",
        "# Upload database and IDs files\n",
        "print(\"\")\n",
        "print(\"Upload <database.fasta> file\")\n",
        "upload_DB = files.upload()\n",
        "print(\"\")\n",
        "print(\"Upload <IDs_table.tx> file\")\n",
        "upload_IDs = files.upload()\n",
        "\n",
        "\n",
        "# Move the uploaded files to the destination directory\n",
        "for filename, content in upload_DB.items():\n",
        "    with open(jobname + \"/database.fasta\", 'wb') as f:\n",
        "        f.write(content)\n",
        "        if os.path.exists(filename): os.remove(filename)\n",
        "for filename, content in upload_IDs.items():\n",
        "    with open(jobname + \"/IDs_table.txt\", 'wb') as f:\n",
        "        f.write(content)\n",
        "        if os.path.exists(filename): os.remove(filename)"
      ],
      "metadata": {
        "cellView": "form",
        "id": "sExtgYYsJi11"
      },
      "execution_count": null,
      "outputs": []
    },
    {
      "cell_type": "code",
      "source": [
        "# @title Install dependencies and DiscobaMultimer (~20 min)\n",
        "%%bash\n",
        "\n",
        "# ---------------------------- Install dependencies ----------------------------\n",
        "\n",
        "# Update apt-get\n",
        "sudo apt-get -y update\n",
        "\n",
        "# Install curl, git and wget and dos2unix\n",
        "sudo apt-get -y install curl git wget dos2unix\n",
        "\n",
        "# Install LocalColabFold\n",
        "wget https://raw.githubusercontent.com/YoshitakaMo/localcolabfold/main/install_colabbatch_linux.sh\n",
        "bash install_colabbatch_linux.sh\n",
        "\n",
        "# Install biopython\n",
        "pip install biopython\n",
        "\n",
        "# Install EMBOSS and HHSUITE\n",
        "sudo apt-get -y install emboss hhsuite\n",
        "\n",
        "# --------------------------- Install DiscobaMultimer --------------------------\n",
        "\n",
        "# Clone the repo and cd to DiscobaMultimer\n",
        "git clone https://github.com/elviorodriguez/DiscobaMultimer.git\n",
        "cd DiscobaMultimer\n",
        "\n",
        "# Install DiscobaMultimer\n",
        "bash install/install_MMseqs2_and_DiscobaDB.sh install\n",
        "\n",
        "# ----------------------------- Remove temp files ------------------------------\n",
        "cd ..\n",
        "rm install_colabbatch_linux.sh\n"
      ],
      "metadata": {
        "id": "IlHxS9cqfri_"
      },
      "execution_count": null,
      "outputs": []
    },
    {
      "cell_type": "code",
      "source": [
        "# @title Run discoba_multimer_batch to retrive only MSAs\n",
        "%%bash -s \"$jobname\" \"$get_MSA_plots\"\n",
        "jobname=$1\n",
        "get_MSA_plots=$2\n",
        "\n",
        "# Add mmseqs and colabfold to PATH\n",
        "export PATH=\"/content/localcolabfold/colabfold-conda/bin:$PATH\"\n",
        "export PATH=\"/content/DiscobaMultimer/mmseqs/bin:$PATH\"\n",
        "\n",
        "# Add env variables for DiscobaDB and DiscobaMultimerPATH\n",
        "export DiscobaDB=/content/DiscobaMultimer/discoba/discoba\n",
        "export DiscobaMultimerPath=/content/DiscobaMultimer\n",
        "\n",
        "# Add aliases for DiscobaMultimer binaries\n",
        "discoba_multimer_batch() {\n",
        "    /content/DiscobaMultimer/scripts/discoba-multimer_batch.sh \"$@\"\n",
        "}\n",
        "discoba_monomer_batch() {\n",
        "    /content/DiscobaMultimer/scripts/discoba-multimer_batch.sh \"$@\"\n",
        "}\n",
        "\n",
        "# Change to the project folder\n",
        "cd $jobname\n",
        "\n",
        "# Make sure files are unix compatible\n",
        "dos2unix database.fasta\n",
        "dos2unix IDs_table.txt\n",
        "\n",
        "# Run the prediction\n",
        "if [ \"$get_MSA_plots\" == \"yes\" ]; then\n",
        "  discoba_multimer_batch -mp database.fasta IDs_table.txt\n",
        "else\n",
        "  discoba_multimer_batch -m database.fasta IDs_table.txt\n",
        "fi"
      ],
      "metadata": {
        "id": "gFcuvEvMuSCc"
      },
      "execution_count": null,
      "outputs": []
    },
    {
      "cell_type": "code",
      "source": [
        "# @title Zip and download results\n",
        "results_zip = f\"{jobname}.result.zip\"\n",
        "os.system(f\"zip -r {results_zip} {jobname}\")\n",
        "files.download(f\"{jobname}.result.zip\")"
      ],
      "metadata": {
        "colab": {
          "base_uri": "https://localhost:8080/",
          "height": 17
        },
        "id": "8X4NAGkBQOtl",
        "outputId": "b5463189-95fc-4e8b-bf39-4895464499cc"
      },
      "execution_count": 109,
      "outputs": [
        {
          "output_type": "display_data",
          "data": {
            "text/plain": [
              "<IPython.core.display.Javascript object>"
            ],
            "application/javascript": [
              "\n",
              "    async function download(id, filename, size) {\n",
              "      if (!google.colab.kernel.accessAllowed) {\n",
              "        return;\n",
              "      }\n",
              "      const div = document.createElement('div');\n",
              "      const label = document.createElement('label');\n",
              "      label.textContent = `Downloading \"${filename}\": `;\n",
              "      div.appendChild(label);\n",
              "      const progress = document.createElement('progress');\n",
              "      progress.max = size;\n",
              "      div.appendChild(progress);\n",
              "      document.body.appendChild(div);\n",
              "\n",
              "      const buffers = [];\n",
              "      let downloaded = 0;\n",
              "\n",
              "      const channel = await google.colab.kernel.comms.open(id);\n",
              "      // Send a message to notify the kernel that we're ready.\n",
              "      channel.send({})\n",
              "\n",
              "      for await (const message of channel.messages) {\n",
              "        // Send a message to notify the kernel that we're ready.\n",
              "        channel.send({})\n",
              "        if (message.buffers) {\n",
              "          for (const buffer of message.buffers) {\n",
              "            buffers.push(buffer);\n",
              "            downloaded += buffer.byteLength;\n",
              "            progress.value = downloaded;\n",
              "          }\n",
              "        }\n",
              "      }\n",
              "      const blob = new Blob(buffers, {type: 'application/binary'});\n",
              "      const a = document.createElement('a');\n",
              "      a.href = window.URL.createObjectURL(blob);\n",
              "      a.download = filename;\n",
              "      div.appendChild(a);\n",
              "      a.click();\n",
              "      div.remove();\n",
              "    }\n",
              "  "
            ]
          },
          "metadata": {}
        },
        {
          "output_type": "display_data",
          "data": {
            "text/plain": [
              "<IPython.core.display.Javascript object>"
            ],
            "application/javascript": [
              "download(\"download_49254fd3-20ca-4419-a6ff-2cf39ad3613a\", \"my_job.result.zip\", 7053436)"
            ]
          },
          "metadata": {}
        }
      ]
    }
  ]
}
